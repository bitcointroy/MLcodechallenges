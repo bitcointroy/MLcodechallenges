{
  "nbformat": 4,
  "nbformat_minor": 0,
  "metadata": {
    "colab": {
      "name": "Troy Bradley Copy of Statistics - Coding Challenge #1.ipynb",
      "version": "0.3.2",
      "provenance": []
    },
    "kernelspec": {
      "name": "python3",
      "display_name": "Python 3"
    }
  },
  "cells": [
    {
      "cell_type": "markdown",
      "metadata": {
        "id": "view-in-github",
        "colab_type": "text"
      },
      "source": [
        "[View in Colaboratory](https://colab.research.google.com/github/bitcointroy/MLcodechallenges/blob/master/Troy_Bradley_Copy_of_Statistics_Coding_Challenge_1.ipynb)"
      ]
    },
    {
      "metadata": {
        "id": "Vim6ATB8ADUI",
        "colab_type": "text"
      },
      "cell_type": "markdown",
      "source": [
        "# Statistics Coding Challenge #1\n",
        "\n",
        "In this coding challenge, we are going to use the \"Accidental Drug Related Deaths 2012-2017 (State of Connecticut)\" data set available from the Data.Gov website (https://catalog.data.gov/dataset?groups=local&organization_type=State+Government#topic=local_navigation). \n",
        "\n",
        "There are 2 main objectives you need to accomplish:\n",
        "\n",
        "1) First treat missing values for the \"Death City\" attribute - replace any missing values in the \"Death City\" with the city that has experienced the most number of deaths\n",
        "\n",
        "For each city, do the following:\n",
        "\n",
        "2) Compute summary statistics for the *age* attribute:\n",
        "\n",
        "\n",
        "a) Mean\n",
        "\n",
        "b) Median\n",
        "\n",
        "c) 25%, 50% and 75% percentiles using [np.percentile](https://docs.scipy.org/doc/numpy-1.14.0/reference/generated/numpy.percentile.html)\n",
        "\n",
        "d) Examine any outliers in data using [Boxplots](https://matplotlib.org/2.1.1/gallery/statistics/boxplot_demo.html)\n",
        "\n",
        "e) Construct a Bee Swarm plot to highlight the distibution of age by each city using [seaborn.swarmplot](https://seaborn.pydata.org/generated/seaborn.swarmplot.html)\n",
        "\n",
        "\n"
      ]
    },
    {
      "metadata": {
        "id": "vchq-N1O9Nlk",
        "colab_type": "code",
        "colab": {
          "base_uri": "https://localhost:8080/",
          "height": 629
        },
        "outputId": "8fe82ce0-4ad0-477b-a058-fe274282149e"
      },
      "cell_type": "code",
      "source": [
        "# LAMBDA SCHOOL\n",
        "#\n",
        "# MACHINE LEARNING\n",
        "#\n",
        "# MIT LICENSE\n",
        "\n",
        "import pandas as pd\n",
        "\n",
        "# from google.colab import files\n",
        "\n",
        "dataset = pd.read_csv('https://data.ct.gov/api/views/rybz-nyjw/rows.csv?accessType=DOWNLOAD')\n",
        "# dataset2 = files.upload('https://data.ct.gov/api/views/rybz-nyjw/rows.csv?accessType=DOWNLOAD')\n",
        "\n",
        "print(dataset.head(5))\n",
        "# print(dataset2.head)"
      ],
      "execution_count": 6,
      "outputs": [
        {
          "output_type": "stream",
          "text": [
            "  CaseNumber        Date   Sex   Race   Age Residence City Residence State  \\\n",
            "0    14-9876  06/28/2014   NaN    NaN   NaN            NaN             NaN   \n",
            "1   12-16897  11/30/2012  Male  White  45.0            NaN             NaN   \n",
            "2   13-11849  08/12/2013  Male  White  30.0      NEW HAVEN             NaN   \n",
            "3   14-17578  11/23/2014  Male  White  27.0      NAUGATUCK             NaN   \n",
            "4   12-11497  08/14/2012  Male  White  21.0        ENFIELD             NaN   \n",
            "\n",
            "  Residence County   Death City Death State  \\\n",
            "0              NaN          NaN         NaN   \n",
            "1              NaN    NEW HAVEN         NaN   \n",
            "2              NaN    NEW HAVEN         NaN   \n",
            "3              NaN  NEW MILFORD         NaN   \n",
            "4              NaN      ENFIELD         NaN   \n",
            "\n",
            "                     ...                    Benzodiazepine Methadone Amphet  \\\n",
            "0                    ...                                 Y       NaN    NaN   \n",
            "1                    ...                               NaN       NaN    NaN   \n",
            "2                    ...                               NaN         Y    NaN   \n",
            "3                    ...                               NaN       NaN    NaN   \n",
            "4                    ...                               NaN       NaN    NaN   \n",
            "\n",
            "  Tramad Morphine (not heroin) Other Any Opioid MannerofDeath  \\\n",
            "0    NaN                   NaN   NaN        NaN      Accident   \n",
            "1    NaN                   NaN   NaN        NaN      Accident   \n",
            "2    NaN                   NaN   NaN        NaN      Accident   \n",
            "3    NaN                   NaN   NaN        NaN      Accident   \n",
            "4    NaN                   NaN   NaN        NaN      Accident   \n",
            "\n",
            "  AmendedMannerofDeath                                  DeathLoc  \n",
            "0                  NaN               CT\\n(41.544654, -72.651713)  \n",
            "1                  NaN    NEW HAVEN, CT\\n(41.308252, -72.924161)  \n",
            "2                  NaN    NEW HAVEN, CT\\n(41.308252, -72.924161)  \n",
            "3                  NaN  NEW MILFORD, CT\\n(41.576633, -73.408713)  \n",
            "4                  NaN      ENFIELD, CT\\n(41.976501, -72.591985)  \n",
            "\n",
            "[5 rows x 32 columns]\n"
          ],
          "name": "stdout"
        }
      ]
    }
  ]
}