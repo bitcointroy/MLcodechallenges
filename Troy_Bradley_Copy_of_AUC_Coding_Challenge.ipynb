{
  "nbformat": 4,
  "nbformat_minor": 0,
  "metadata": {
    "colab": {
      "name": "Troy Bradley Copy of AUC Coding Challenge.ipynb",
      "version": "0.3.2",
      "provenance": [],
      "collapsed_sections": []
    },
    "kernelspec": {
      "name": "python3",
      "display_name": "Python 3"
    }
  },
  "cells": [
    {
      "cell_type": "markdown",
      "metadata": {
        "id": "view-in-github",
        "colab_type": "text"
      },
      "source": [
        "[View in Colaboratory](https://colab.research.google.com/github/bitcointroy/MLcodechallenges/blob/master/Troy_Bradley_Copy_of_AUC_Coding_Challenge.ipynb)"
      ]
    },
    {
      "metadata": {
        "id": "aD8Yb0P8D04e",
        "colab_type": "text"
      },
      "cell_type": "markdown",
      "source": [
        "# Area-Under-Curve Measurement\n",
        "\n",
        "Objectives:\n",
        "* Compute true positive, true negative, false positive, and false negative classification rate\n",
        "* Adjust classification threshold to control above rates\n",
        "* Plot AUC  to demonstrate accuracy\n",
        "* Calculate AUC as a single value\n",
        "\n",
        "### Background\n",
        "\n",
        "You want to be familiar with ROC and AUC.\n",
        "\n",
        "#### Receiver Operating Characteristic Curve (ROC)\n",
        "\n",
        "[wikipedia](https://en.wikipedia.org/wiki/Receiver_operating_characteristic)\n",
        "[Precision and Recall](https://en.wikipedia.org/wiki/Precision_and_recall) [sklearn](http://scikit-learn.org/stable/auto_examples/model_selection/plot_roc.html)\n",
        "\n",
        "#### Area Under Curve (AUC)\n",
        "\n",
        "[sklearn](http://scikit-learn.org/stable/modules/generated/sklearn.metrics.auc.html)\n",
        "\n",
        "The ROC curve provides a visualization of the performance of a classifier, with false-positive rates along the $x$ axis and true-positive rates along the $y$ axis. A perfect classifier produces no false positives (100% specificity) and no false negatives (100% sensitivity). In reality, classifiers are not so discerning.\n",
        "\n",
        "### Do:\n",
        "\n",
        "Correct the bugs in the following code blocks in order to work through the mechanics of building an AUC. \n",
        "\n",
        "Once you've calculated `FPR` and `TPR` for the Logistic Regression classifier on its Sprint Challenge dataset and visualized the results, modify it to compute the same data using the _test_ data, instead of the _train_ data."
      ]
    },
    {
      "metadata": {
        "id": "9JrCk2HEPwoI",
        "colab_type": "text"
      },
      "cell_type": "markdown",
      "source": [
        "### 1. Compute Linear Regression Model\n",
        "\n",
        "Create a training set and train a Logistic Regression model with it"
      ]
    },
    {
      "metadata": {
        "id": "5UeD3N5_PwCF",
        "colab_type": "code",
        "colab": {
          "base_uri": "https://localhost:8080/",
          "height": 85
        },
        "outputId": "2fe14568-916d-481c-9127-1972d500d5ae"
      },
      "cell_type": "code",
      "source": [
        "import numpy as np\n",
        "\n",
        "#import necessary libraries\n",
        "import pandas as pd\n",
        "from sklearn.linear_model import LogisticRegression\n",
        "from sklearn.model_selection import train_test_split\n",
        "\n",
        "data = pd.read_csv('https://www.dropbox.com/s/bnwfu81bjpf22hp/logistic_regression.csv?raw=1')\n",
        "# Use train_test_split to create a training set\n",
        "train_x, test_x, train_y, test_y = train_test_split(data[['x1','x2']],data['y'])\n",
        "\n",
        "# Create and train(fit) the model\n",
        "regr = LogisticRegression()\n",
        "regr.fit(train_x, train_y)"
      ],
      "execution_count": 2,
      "outputs": [
        {
          "output_type": "execute_result",
          "data": {
            "text/plain": [
              "LogisticRegression(C=1.0, class_weight=None, dual=False, fit_intercept=True,\n",
              "          intercept_scaling=1, max_iter=100, multi_class='ovr', n_jobs=1,\n",
              "          penalty='l2', random_state=None, solver='liblinear', tol=0.0001,\n",
              "          verbose=0, warm_start=False)"
            ]
          },
          "metadata": {
            "tags": []
          },
          "execution_count": 2
        }
      ]
    },
    {
      "metadata": {
        "id": "jSfpHHfJFPc5",
        "colab_type": "text"
      },
      "cell_type": "markdown",
      "source": [
        "### 2. Predict values for $\\hat{y}$ for the test set"
      ]
    },
    {
      "metadata": {
        "id": "x3K306_pFUQc",
        "colab_type": "code",
        "colab": {
          "base_uri": "https://localhost:8080/",
          "height": 51
        },
        "outputId": "ac0fe099-ec31-4f51-ea4d-83f3b1e3dde0"
      },
      "cell_type": "code",
      "source": [
        "# Predict y_hat for the test set created previously\n",
        "\n",
        "y_hat = regr.predict(train_x)\n",
        "print(y_hat)"
      ],
      "execution_count": 3,
      "outputs": [
        {
          "output_type": "stream",
          "text": [
            "[1. 1. 1. 1. 1. 0. 1. 1. 1. 0. 0. 0. 0. 1. 0. 0. 1. 0. 1. 0. 0. 1. 1. 0.\n",
            " 1. 1. 0. 0. 0. 1.]\n"
          ],
          "name": "stdout"
        }
      ]
    },
    {
      "metadata": {
        "id": "xS6VlmpYTzPx",
        "colab_type": "text"
      },
      "cell_type": "markdown",
      "source": [
        "### Observe precision"
      ]
    },
    {
      "metadata": {
        "id": "Fv_8vZvrT44v",
        "colab_type": "code",
        "colab": {
          "base_uri": "https://localhost:8080/",
          "height": 1071
        },
        "outputId": "ecd23856-0fc0-4b98-8d9b-0da11d110ac6"
      },
      "cell_type": "code",
      "source": [
        "# True positive: if the prediction is 1, and the original data is 1, their sum is 2\n",
        "true_positives = (y_hat+train_y)==2\n",
        "# False positive: if the prediction is 1, but the original data is 0, their sum is 1\n",
        "false_positives = (y_hat-train_y)==1\n",
        "print(true_positives.T)\n",
        "print(false_positives.T)"
      ],
      "execution_count": 5,
      "outputs": [
        {
          "output_type": "stream",
          "text": [
            "31     True\n",
            "26     True\n",
            "27     True\n",
            "1     False\n",
            "21     True\n",
            "13    False\n",
            "25     True\n",
            "22     True\n",
            "29     True\n",
            "5     False\n",
            "4     False\n",
            "30    False\n",
            "28    False\n",
            "33     True\n",
            "0     False\n",
            "6     False\n",
            "32     True\n",
            "8     False\n",
            "38     True\n",
            "15    False\n",
            "16    False\n",
            "37     True\n",
            "19    False\n",
            "11    False\n",
            "35     True\n",
            "39     True\n",
            "7     False\n",
            "17    False\n",
            "2     False\n",
            "36     True\n",
            "Name: y, dtype: bool\n",
            "31    False\n",
            "26    False\n",
            "27    False\n",
            "1      True\n",
            "21    False\n",
            "13    False\n",
            "25    False\n",
            "22    False\n",
            "29    False\n",
            "5     False\n",
            "4     False\n",
            "30    False\n",
            "28    False\n",
            "33    False\n",
            "0     False\n",
            "6     False\n",
            "32    False\n",
            "8     False\n",
            "38    False\n",
            "15    False\n",
            "16    False\n",
            "37    False\n",
            "19     True\n",
            "11    False\n",
            "35    False\n",
            "39    False\n",
            "7     False\n",
            "17    False\n",
            "2     False\n",
            "36    False\n",
            "Name: y, dtype: bool\n"
          ],
          "name": "stdout"
        }
      ]
    },
    {
      "metadata": {
        "id": "Yybc_0TTTo6s",
        "colab_type": "code",
        "colab": {
          "base_uri": "https://localhost:8080/",
          "height": 612
        },
        "outputId": "94400aeb-8100-45aa-c70b-54e3e9a7353a"
      },
      "cell_type": "code",
      "source": [
        "# The probabilities computed by Logistic Regression:\n",
        "# The columns correspond with class 0 or 1\n",
        "proba = regr.predict_proba(train_x)\n",
        "print(proba)\n",
        "\n",
        "# The decision function computed by Logistic Regression - this is simply\n",
        "# \\sum w_i x_i + b, before the logit function has been applied\n",
        "dec = regr.decision_function(train_x)\n",
        "print(dec)"
      ],
      "execution_count": 6,
      "outputs": [
        {
          "output_type": "stream",
          "text": [
            "[[0.18997529 0.81002471]\n",
            " [0.00758194 0.99241806]\n",
            " [0.03203427 0.96796573]\n",
            " [0.49809953 0.50190047]\n",
            " [0.04427393 0.95572607]\n",
            " [0.91546865 0.08453135]\n",
            " [0.00453142 0.99546858]\n",
            " [0.04553849 0.95446151]\n",
            " [0.02186341 0.97813659]\n",
            " [0.96157723 0.03842277]\n",
            " [0.69085626 0.30914374]\n",
            " [0.56579569 0.43420431]\n",
            " [0.58521427 0.41478573]\n",
            " [0.12439685 0.87560315]\n",
            " [0.82795754 0.17204246]\n",
            " [0.79662282 0.20337718]\n",
            " [0.01003417 0.98996583]\n",
            " [0.74772494 0.25227506]\n",
            " [0.01467767 0.98532233]\n",
            " [0.77338042 0.22661958]\n",
            " [0.90661936 0.09338064]\n",
            " [0.00488259 0.99511741]\n",
            " [0.45319989 0.54680011]\n",
            " [0.54224806 0.45775194]\n",
            " [0.03375722 0.96624278]\n",
            " [0.22353276 0.77646724]\n",
            " [0.86436865 0.13563135]\n",
            " [0.75886788 0.24113212]\n",
            " [0.79447703 0.20552297]\n",
            " [0.20032944 0.79967056]]\n",
            "[ 1.45017076  4.87437579  3.40839049  0.00760191  3.07207539 -2.38231364\n",
            "  5.39217801  3.04258932  3.80083497 -3.21992471 -0.80412542 -0.26471785\n",
            " -0.34421599  1.95143613 -1.57122057 -1.36531903  4.59167443 -1.08651517\n",
            "  4.20664134 -1.22749833 -2.27303865  5.31718593  0.18775002 -0.16939615\n",
            "  3.35422094  1.2451965  -1.85205878 -1.14648272 -1.35212628  1.3842366 ]\n"
          ],
          "name": "stdout"
        }
      ]
    },
    {
      "metadata": {
        "id": "PYmuA8VwJ4_y",
        "colab_type": "text"
      },
      "cell_type": "markdown",
      "source": [
        "### 2.1 Build ROC curves"
      ]
    },
    {
      "metadata": {
        "id": "Jcyi6Z16OGuM",
        "colab_type": "code",
        "colab": {
          "base_uri": "https://localhost:8080/",
          "height": 544
        },
        "outputId": "0dccc668-b40a-4fc7-e4d3-f3369113dbdc"
      },
      "cell_type": "code",
      "source": [
        "thresholds = np.linspace(0.0,1.0,11)\n",
        "predictions = pd.DataFrame()\n",
        "\n",
        "for decision_threshold in thresholds:\n",
        "    decision_threshold = np.round(decision_threshold,2)\n",
        "    true_false_array = (proba[::,1:2:] > decision_threshold).T[0]\n",
        "    predictions[str(decision_threshold)] = true_false_array.astype(int)\n",
        "        \n",
        "print(predictions)"
      ],
      "execution_count": 8,
      "outputs": [
        {
          "output_type": "stream",
          "text": [
            "    0.0  0.1  0.2  0.3  0.4  0.5  0.6  0.7  0.8  0.9  1.0\n",
            "0     1    1    1    1    1    1    1    1    1    0    0\n",
            "1     1    1    1    1    1    1    1    1    1    1    0\n",
            "2     1    1    1    1    1    1    1    1    1    1    0\n",
            "3     1    1    1    1    1    1    0    0    0    0    0\n",
            "4     1    1    1    1    1    1    1    1    1    1    0\n",
            "5     1    0    0    0    0    0    0    0    0    0    0\n",
            "6     1    1    1    1    1    1    1    1    1    1    0\n",
            "7     1    1    1    1    1    1    1    1    1    1    0\n",
            "8     1    1    1    1    1    1    1    1    1    1    0\n",
            "9     1    0    0    0    0    0    0    0    0    0    0\n",
            "10    1    1    1    1    0    0    0    0    0    0    0\n",
            "11    1    1    1    1    1    0    0    0    0    0    0\n",
            "12    1    1    1    1    1    0    0    0    0    0    0\n",
            "13    1    1    1    1    1    1    1    1    1    0    0\n",
            "14    1    1    0    0    0    0    0    0    0    0    0\n",
            "15    1    1    1    0    0    0    0    0    0    0    0\n",
            "16    1    1    1    1    1    1    1    1    1    1    0\n",
            "17    1    1    1    0    0    0    0    0    0    0    0\n",
            "18    1    1    1    1    1    1    1    1    1    1    0\n",
            "19    1    1    1    0    0    0    0    0    0    0    0\n",
            "20    1    0    0    0    0    0    0    0    0    0    0\n",
            "21    1    1    1    1    1    1    1    1    1    1    0\n",
            "22    1    1    1    1    1    1    0    0    0    0    0\n",
            "23    1    1    1    1    1    0    0    0    0    0    0\n",
            "24    1    1    1    1    1    1    1    1    1    1    0\n",
            "25    1    1    1    1    1    1    1    1    0    0    0\n",
            "26    1    1    0    0    0    0    0    0    0    0    0\n",
            "27    1    1    1    0    0    0    0    0    0    0    0\n",
            "28    1    1    1    0    0    0    0    0    0    0    0\n",
            "29    1    1    1    1    1    1    1    1    0    0    0\n"
          ],
          "name": "stdout"
        }
      ]
    },
    {
      "metadata": {
        "id": "nDEdBrtYFjEr",
        "colab_type": "text"
      },
      "cell_type": "markdown",
      "source": [
        "### 3. Calculate TP and FP at each discrimination level"
      ]
    },
    {
      "metadata": {
        "id": "B73O-XcrF9Wd",
        "colab_type": "code",
        "colab": {
          "base_uri": "https://localhost:8080/",
          "height": 835
        },
        "outputId": "756ed4f0-ca78-4bd7-f8c0-4f84662050d2"
      },
      "cell_type": "code",
      "source": [
        "# Base case:\n",
        "false_positives = np.sum(predictions['0.1']-train_y.values>1)\n",
        "true_positives = np.sum(predictions['0.1']+train_y.values==2)\n",
        "print('False positive rate at threshold 0.1: ',false_positives/np.sum(train_y==0))\n",
        "print('True positive rate at threshold 0.1: ',true_positives/np.sum(train_y==1))\n",
        "\n",
        "# Now automate the base case across the set of all decision thresholds\n",
        "fp = pd.DataFrame()\n",
        "tp = pd.DataFrame()\n",
        "for threshold in predictions.columns:\n",
        "    fp[threshold] = [np.sum(predictions[threshold]-train_y.values==1)/np.sum(train_y==0)]\n",
        "    tp[threshold] = [np.sum(predictions[threshold]+train_y.values==2)/np.sum(train_y==1)]\n",
        "\n",
        "# The false positives and true positive rated, based on the sliding decision threshold\n",
        "print(fp.T)\n",
        "print(tp.T)\n",
        "\n",
        "import matplotlib.pyplot as plt\n",
        "plt.plot(fp.T,tp.T);\n",
        "plt.plot([0, 1], [0, 1], 'k--', lw=2)\n",
        "plt.xlabel('False Positive Rate')\n",
        "plt.ylabel('True Positive Rate')\n",
        "plt.title('Receiver operating characteristic example')\n",
        "    "
      ],
      "execution_count": 10,
      "outputs": [
        {
          "output_type": "stream",
          "text": [
            "False positive rate at threshold 0.1:  0.0\n",
            "True positive rate at threshold 0.1:  1.0\n",
            "            0\n",
            "0.0  1.000000\n",
            "0.1  0.785714\n",
            "0.2  0.642857\n",
            "0.3  0.285714\n",
            "0.4  0.214286\n",
            "0.5  0.142857\n",
            "0.6  0.000000\n",
            "0.7  0.000000\n",
            "0.8  0.000000\n",
            "0.9  0.000000\n",
            "1.0  0.000000\n",
            "         0\n",
            "0.0  1.000\n",
            "0.1  1.000\n",
            "0.2  1.000\n",
            "0.3  1.000\n",
            "0.4  1.000\n",
            "0.5  0.875\n",
            "0.6  0.875\n",
            "0.7  0.875\n",
            "0.8  0.750\n",
            "0.9  0.625\n",
            "1.0  0.000\n"
          ],
          "name": "stdout"
        },
        {
          "output_type": "execute_result",
          "data": {
            "text/plain": [
              "Text(0.5,1,'Receiver operating characteristic example')"
            ]
          },
          "metadata": {
            "tags": []
          },
          "execution_count": 10
        },
        {
          "output_type": "display_data",
          "data": {
            "image/png": "[encoded data removed]",
            "text/plain": [
              "<matplotlib.figure.Figure at 0x7f2b062a3be0>"
            ]
          },
          "metadata": {
            "tags": []
          }
        }
      ]
    },
    {
      "metadata": {
        "id": "Jhg7EM4YQ6nG",
        "colab_type": "text"
      },
      "cell_type": "markdown",
      "source": [
        "### 4. Example using sklearn"
      ]
    },
    {
      "metadata": {
        "id": "t2xGVuYcQfAo",
        "colab_type": "code",
        "colab": {}
      },
      "cell_type": "code",
      "source": [
        "from sklearn import metrics"
      ],
      "execution_count": 0,
      "outputs": []
    },
    {
      "metadata": {
        "id": "O1_hD-raG2s2",
        "colab_type": "code",
        "colab": {
          "base_uri": "https://localhost:8080/",
          "height": 415
        },
        "outputId": "b67c5d93-28ef-4957-a75b-62738bebd719"
      },
      "cell_type": "code",
      "source": [
        "# The Area-Under-The-Curve Score\n",
        "print(metrics.auc(fp.T,tp.T))\n",
        "print(metrics.roc_auc_score(train_y.values,proba[::,1:2:]))\n",
        "\n",
        "# Producing the same false/true positive data via a library and plotting it\n",
        "fpr, tpr, _ = metrics.roc_curve(train_y.values,proba[::,1:2:])\n",
        "print(fpr)\n",
        "print(tpr)\n",
        "plt.plot(fpr,tpr);"
      ],
      "execution_count": 12,
      "outputs": [
        {
          "output_type": "stream",
          "text": [
            "0.9776785714285714\n",
            "0.9732142857142857\n",
            "[0.         0.         0.21428571 0.21428571 1.        ]\n",
            "[0.0625 0.875  0.875  1.     1.    ]\n"
          ],
          "name": "stdout"
        },
        {
          "output_type": "display_data",
          "data": {
            "image/png": "[encoded data removed]",
            "text/plain": [
              "<matplotlib.figure.Figure at 0x7f2b06ca7940>"
            ]
          },
          "metadata": {
            "tags": []
          }
        }
      ]
    },
    {
      "metadata": {
        "id": "QS0KgX-_QbX6",
        "colab_type": "text"
      },
      "cell_type": "markdown",
      "source": [
        "## Do\n",
        "\n",
        "### 5. Compute the ROC and AUC using the _testset_ instead of the _trainset_\n"
      ]
    },
    {
      "metadata": {
        "id": "CVtzXgERHI4B",
        "colab_type": "code",
        "colab": {}
      },
      "cell_type": "code",
      "source": [
        "# Compute and plot"
      ],
      "execution_count": 0,
      "outputs": []
    }
  ]
}